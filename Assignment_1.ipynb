{
  "nbformat": 4,
  "nbformat_minor": 0,
  "metadata": {
    "kernelspec": {
      "display_name": "Python 3",
      "language": "python",
      "name": "python3"
    },
    "language_info": {
      "codemirror_mode": {
        "name": "ipython",
        "version": 3
      },
      "file_extension": ".py",
      "mimetype": "text/x-python",
      "name": "python",
      "nbconvert_exporter": "python",
      "pygments_lexer": "ipython3",
      "version": "3.5.3"
    },
    "colab": {
      "name": "Assignment_1.ipynb",
      "provenance": [],
      "collapsed_sections": []
    }
  },
  "cells": [
    {
      "cell_type": "markdown",
      "metadata": {
        "deletable": true,
        "editable": true,
        "id": "m_R4z-lmbSjo",
        "colab_type": "text"
      },
      "source": [
        "<h2>Assignment 1 - Linear Regression on Boston Housing Data</h2>"
      ]
    },
    {
      "cell_type": "code",
      "metadata": {
        "deletable": true,
        "editable": true,
        "id": "WJ3cJxt3bSjp",
        "colab_type": "code",
        "colab": {}
      },
      "source": [
        "# The modules we're going to use\n",
        "from __future__ import print_function\n",
        "from sklearn import preprocessing\n",
        "from sklearn.model_selection import train_test_split\n",
        "from sklearn import datasets, linear_model\n",
        "from scipy import linalg\n",
        "import numpy as np\n",
        "import matplotlib.pyplot as plt\n",
        "\n",
        "# When you execute a code to plot with a simple SHIFT-ENTER, the plot will be shown directly under the code cell\n",
        "%matplotlib inline"
      ],
      "execution_count": 0,
      "outputs": []
    },
    {
      "cell_type": "code",
      "metadata": {
        "deletable": true,
        "editable": true,
        "id": "VXXIgKFJbSjr",
        "colab_type": "code",
        "colab": {}
      },
      "source": [
        "# Load data from scikit-learn, which returns (data, target)\n",
        "# note: if you call \"boston = load_boston()\", it returns a dictionary-like object\n",
        "data, target = datasets.load_boston(True)\n",
        "\n",
        "# Split the data into two parts: training data and testing data\n",
        "train_data,test_data,train_target,test_target = train_test_split(data,(target[:, np.newaxis]), test_size=0.2, random_state=42)"
      ],
      "execution_count": 0,
      "outputs": []
    },
    {
      "cell_type": "markdown",
      "metadata": {
        "deletable": true,
        "editable": true,
        "id": "NA3ezrA-bSjt",
        "colab_type": "text"
      },
      "source": [
        "<h4>Use scikit-learn library in the following cell</h4>"
      ]
    },
    {
      "cell_type": "code",
      "metadata": {
        "deletable": true,
        "editable": true,
        "id": "hlqomvfpbSjt",
        "colab_type": "code",
        "outputId": "36bebfe8-9b72-4fd8-a11e-b4cb09fecc4d",
        "colab": {
          "base_uri": "https://localhost:8080/",
          "height": 136
        }
      },
      "source": [
        "# Task 1-1: use linear regression in sklearn\n",
        "from sklearn.metrics import mean_squared_error, r2_score\n",
        "reg = linear_model.LinearRegression()\n",
        "reg.fit(train_data, train_target)\n",
        "predict = reg.predict(test_data)\n",
        "\n",
        "# Task 1-2: show intercept and coefficents\n",
        "print('coefficients: \\n', reg.coef_)\n",
        "print('intercept: \\n', reg.intercept_)\n",
        "\n",
        "# Task 1-3: show errors on training dataset and testing dataset\n",
        "print(\"Mean Squared Error: %.2f\" % mean_squared_error(test_target,predict))\n",
        "#print(\"Variance Score: %.2f\" % r2_score(test_target,predict))"
      ],
      "execution_count": 73,
      "outputs": [
        {
          "output_type": "stream",
          "text": [
            "coefficients: \n",
            " [[-1.00213533  0.69626862  0.27806485  0.7187384  -2.0223194   3.14523956\n",
            "  -0.17604788 -3.0819076   2.25140666 -1.76701378 -2.03775151  1.12956831\n",
            "  -3.61165842]]\n",
            "intercept: \n",
            " [22.79653465]\n",
            "Mean Squared Error: 24.29\n"
          ],
          "name": "stdout"
        }
      ]
    },
    {
      "cell_type": "markdown",
      "metadata": {
        "deletable": true,
        "editable": true,
        "id": "RpX2tOa5bSjv",
        "colab_type": "text"
      },
      "source": [
        "<h4>Use analytical solution (normal equation) to perform linear regression in the following cell</h4>"
      ]
    },
    {
      "cell_type": "code",
      "metadata": {
        "deletable": true,
        "editable": true,
        "id": "YZJJ0sUGbSjv",
        "colab_type": "code",
        "outputId": "7d3d2c98-4df5-4e69-8005-2611803f3bc2",
        "colab": {
          "base_uri": "https://localhost:8080/",
          "height": 323
        }
      },
      "source": [
        "# Task 2-1: Implement a function solving normal equation \n",
        "# Inputs: Training data and  training label\n",
        "# Output: Weights\n",
        "def myNormalEqualFun(X,y):\n",
        "  test = np.dot(X.T,X)\n",
        "  second = np.dot(np.linalg.inv(test),X.T)\n",
        "  result = np.dot(second, y)\n",
        "  return result\n",
        "    \n",
        "# Task 2-2: Implement a function performing prediction\n",
        "# Inputs: Testing data and weights\n",
        "# Output: Predictions\n",
        "def myPredictFun(X,w):\n",
        "  temp = []\n",
        "  y = np.array(temp)\n",
        "  for i in range(np.size(X,0)):\n",
        "    y = np.append(y,np.sum(np.dot(X[i],w)))\n",
        "#  print(y)\n",
        "  return y\n",
        "\n",
        "# Here we insert a column of 1s into training_data and test_data (to be consistent with our lecture slides)\n",
        "train_data_intercept = np.insert(train_data, 0, 1, axis=1)\n",
        "test_data_intercept = np.insert(test_data, 0, 1, axis=1)\n",
        "\n",
        "# Here we call myNormalEqual to train the model and get weights\n",
        "w = myNormalEqualFun(train_data_intercept,train_target)\n",
        "\n",
        "# Calling myPredictFun to get the predicted test data result\n",
        "predict_y = myPredictFun(test_data_intercept, w)\n",
        "\n",
        "# Task 2-3: show intercept and coefficents\n",
        "print(\"intercept: \\n\", w[0])\n",
        "print(\"coefficents: \\n\", w[1:])\n",
        "\n",
        "# Task 2-4: show errors on training dataset and testing dataset\n",
        "print(\"Mean Squared Error: %.2f\" % mean_squared_error(test_target,predict_y))\n",
        "print(np.sum(np.square(np.subtract(test_target, predict_y.reshape(102,1)))/102))\n"
      ],
      "execution_count": 71,
      "outputs": [
        {
          "output_type": "stream",
          "text": [
            "intercept: \n",
            " [22.79653465]\n",
            "coefficents: \n",
            " [[-1.00213533]\n",
            " [ 0.69626862]\n",
            " [ 0.27806485]\n",
            " [ 0.7187384 ]\n",
            " [-2.0223194 ]\n",
            " [ 3.14523956]\n",
            " [-0.17604788]\n",
            " [-3.0819076 ]\n",
            " [ 2.25140666]\n",
            " [-1.76701378]\n",
            " [-2.03775151]\n",
            " [ 1.12956831]\n",
            " [-3.61165842]]\n",
            "Mean Squared Error: 24.29\n",
            "24.291119474973566\n"
          ],
          "name": "stdout"
        }
      ]
    },
    {
      "cell_type": "markdown",
      "metadata": {
        "deletable": true,
        "editable": true,
        "id": "1hhVEfixbSjx",
        "colab_type": "text"
      },
      "source": [
        "<h4>Use numerical solution (baisc gradient descent) to perform linear regression in the following cell</h4>"
      ]
    },
    {
      "cell_type": "code",
      "metadata": {
        "deletable": true,
        "editable": true,
        "id": "3H1IxOBubSjy",
        "colab_type": "code",
        "outputId": "3be0894d-23d0-4dd3-a61c-44a26c467f9a",
        "colab": {
          "base_uri": "https://localhost:8080/",
          "height": 609
        }
      },
      "source": [
        "# Feature scaling\n",
        "scaler = preprocessing.StandardScaler().fit(train_data)\n",
        "train_data = scaler.transform(train_data)\n",
        "test_data = scaler.transform(test_data)\n",
        "\n",
        "\n",
        "import random\n",
        "\n",
        "# Task 3-1: Implement a function performing gradient descent\n",
        "# Inputs: Training data, training label, leaerning rate, number of iterations\n",
        "# Output: the final Weights\n",
        "#         the loss history along iterations\n",
        "def myGradientDescentFun(X,y,learning_rate,numItrs):\n",
        "  itemp = []\n",
        "  stemp = []\n",
        "  weight = np.array(itemp)\n",
        "  loss = np.array(stemp)\n",
        "  lost = np.array([])\n",
        "  for i in range(np.size(X[0])):\n",
        "    weight = np.append(weight,random.randrange(-10, 10))\n",
        "  weight = weight.reshape(14,1)\n",
        "  for i in range(numItrs):\n",
        "    c = learning_rate * (1/np.size(weight))\n",
        "    diff = c * np.dot(X.T, (y - (np.dot(X,weight))))\n",
        "    weight = np.add(weight, diff)\n",
        "    loss = np.append(loss, (1/np.size(weight)) * np.sum(np.square(y - np.dot(X,weight))))\n",
        "    lost = np.append(lost, (1/np.size(weight)) * np.sum(np.square(test_target - np.dot(test_data_intercept, weight))))\n",
        "  return weight, loss, lost\n",
        "\n",
        "# Task 3-2: Implement a function performing prediction\n",
        "# Inputs: Testing data and weights\n",
        "# Output: Predictions\n",
        "def myPredictFun(X,w):\n",
        "  temp = []\n",
        "  y = np.array(temp)\n",
        "  for i in range(np.size(X,0)):\n",
        "    y = np.append(y,np.sum(np.dot(X[i],w)))\n",
        "  return y\n",
        "\n",
        "# Here we insert a column of 1s into training_data and test_data (to be consistent with our lecture slides)\n",
        "train_data_intercept = np.insert(train_data, 0, 1, axis=1)\n",
        "test_data_intercept = np.insert(test_data, 0, 1, axis=1)\n",
        "\n",
        "# Here we call myGradientDescentFun to train the model and get weights\n",
        "# Note: you need to figure out good learning rate value and the number of iterations\n",
        "w, loss, lost = myGradientDescentFun(train_data_intercept,train_target,.01,50)\n",
        "# Calling myPredictFun to get the predicted test data result\n",
        "predict_y = myPredictFun(test_data_intercept, w)\n",
        "\n",
        "# Task 3-3: show intercept and coefficents\n",
        "print(\"intercept: \\n\", w[0])\n",
        "print(\"coefficents: \\n\", w[1:])\n",
        "\n",
        "# Task 3-4: show errors on training dataset and testing dataset\n",
        "print(\"Mean Squared Error: %.2f\" % mean_squared_error(test_target,predict_y))\n",
        "print(np.sum(np.square(np.subtract(test_target, predict_y.reshape(102,1)))/102))\n",
        "print(np.shape(lost))\n",
        "\n",
        "# Task 3-5: plot learning curves showing training errors and testing errors along iterations\n",
        "plt.plot(range(np.size(loss)), loss, 'o-')\n",
        "plt.plot(range(np.size(lost)), lost, 'o-')"
      ],
      "execution_count": 210,
      "outputs": [
        {
          "output_type": "stream",
          "text": [
            "intercept: \n",
            " [22.79653365]\n",
            "coefficents: \n",
            " [[-0.9249235 ]\n",
            " [ 0.14081346]\n",
            " [ 0.0825422 ]\n",
            " [ 0.79079705]\n",
            " [-2.27407547]\n",
            " [ 3.30552849]\n",
            " [ 0.0461996 ]\n",
            " [-2.50445105]\n",
            " [ 1.16026242]\n",
            " [-0.28914461]\n",
            " [-2.2675395 ]\n",
            " [ 1.14729502]\n",
            " [-3.47743485]]\n",
            "Mean Squared Error: 25.87\n",
            "25.869204759575947\n",
            "(50,)\n"
          ],
          "name": "stdout"
        },
        {
          "output_type": "execute_result",
          "data": {
            "text/plain": [
              "[<matplotlib.lines.Line2D at 0x7fed0cc75710>]"
            ]
          },
          "metadata": {
            "tags": []
          },
          "execution_count": 210
        },
        {
          "output_type": "display_data",
          "data": {
            "image/png": "[encoded data removed]",
            "text/plain": [
              "<Figure size 432x288 with 1 Axes>"
            ]
          },
          "metadata": {
            "tags": []
          }
        }
      ]
    },
    {
      "cell_type": "markdown",
      "metadata": {
        "id": "Rx1UOqmfcNe0",
        "colab_type": "text"
      },
      "source": [
        "<h4>Use numerical solution (stochastic gradient descent) to perform linear regression in the following cell</h4>"
      ]
    },
    {
      "cell_type": "code",
      "metadata": {
        "id": "96_WVyVKcNss",
        "colab_type": "code",
        "outputId": "7871099f-71dd-44d3-fc52-e89dd039334c",
        "colab": {
          "base_uri": "https://localhost:8080/",
          "height": 592
        }
      },
      "source": [
        "# Feature scaling\n",
        "scaler = preprocessing.StandardScaler().fit(train_data)\n",
        "train_data = scaler.transform(train_data)\n",
        "test_data = scaler.transform(test_data)\n",
        "\n",
        "\n",
        "# Task 4-1: Implement a function performing gradient descent\n",
        "# Inputs: Training data, training label, leaerning rate, number of epoches, batch size\n",
        "# Output: the final Weights\n",
        "#         the loss history along batches\n",
        "def myGradientDescentFun(X,y,learning_rate,epoches, batchsize):\n",
        "  itemp = []\n",
        "  stemp = []\n",
        "  weight = np.array(itemp)\n",
        "  loss = np.array(stemp)\n",
        "  \n",
        "  lost = np.array([])\n",
        "\n",
        "  for i in range(14):\n",
        "    weight = np.append(weight,random.randrange(-4, 4))\n",
        "  weight = weight.reshape(14,1)\n",
        "  \n",
        "  for batch in batchGen(X, y, batchsize):\n",
        "    nX, ny = batch\n",
        "    \n",
        "\n",
        "#  for i in range(numItrs):\n",
        "    c = learning_rate * (1/np.size(weight))\n",
        "    diff = c * np.dot(nX.T, (ny - (np.dot(nX,weight))))\n",
        "    weight = np.add(weight, diff)\n",
        "    loss = np.append(loss, (1/np.size(weight)) * np.sum(np.square(ny - np.dot(nX,weight))))    \n",
        "    lost = np.append(lost, (1/np.size(weight)) * np.sum(np.square(np.subtract(test_target, np.dot(test_data_intercept, weight)))))\n",
        "  return weight, loss, lost\n",
        "\n",
        "def batchGen(X, y, batchsize):\n",
        "  for i in np.arange(0, 404, batchsize):\n",
        "    yield(X[i: i + batchsize], y[i: i + batchsize])\n",
        "  \n",
        "  \n",
        "# Task 4-2: Implement a function performing prediction\n",
        "# Inputs: Testing data and weights\n",
        "# Output: Predictions\n",
        "def myPredictFun(X,w):\n",
        "  temp = []\n",
        "  y = np.array(temp)\n",
        "  for i in range(np.size(X,0)):\n",
        "    y = np.append(y,np.sum(np.dot(X[i],w)))\n",
        "  return y\n",
        "\n",
        "# Here we insert a column of 1s into training_data and test_data (to be consistent with our lecture slides)\n",
        "train_data_intercept = np.insert(train_data, 0, 1, axis=1)\n",
        "test_data_intercept = np.insert(test_data, 0, 1, axis=1)\n",
        "\n",
        "# Here we call myGradientDescentFun to train the model and get weights\n",
        "# Note: you need to figure out good learning rate value and the number of iterations\n",
        "w, loss, lost = myGradientDescentFun(train_data_intercept,train_target,.19,101,4)\n",
        "\n",
        "# Calling myPredictFun to get the predicted test data result\n",
        "predict_y = myPredictFun(test_data_intercept, w)\n",
        "\n",
        "\n",
        "\n",
        "\n",
        "# Task 4-3: show intercept and coefficents\n",
        "print(\"intercept: \\n\", w[0])\n",
        "print(\"coefficents: \\n\", w[1:])\n",
        "\n",
        "# Task 4-4: show errors on training dataset and testing dataset\n",
        "print(\"Mean Squared Error: %.2f\" % mean_squared_error(test_target,predict_y))\n",
        "print(np.sum(np.square(np.subtract(test_target, predict_y.reshape(102,1)))/102))\n",
        "\n",
        "\n",
        "#print(loss)\n",
        "# Task 4-5: plot learning curves showing training errors and testing errors along bath\n",
        "plt.subplot(2, 1, 1)\n",
        "plt.plot(range(np.size(loss)), loss, 'o-', color=\"red\")\n",
        "plt.subplot(2, 1, 2)\n",
        "plt.plot(range(np.size(lost)), lost, 'o-')"
      ],
      "execution_count": 215,
      "outputs": [
        {
          "output_type": "stream",
          "text": [
            "intercept: \n",
            " [22.75135328]\n",
            "coefficents: \n",
            " [[ 0.0899133 ]\n",
            " [ 1.12732365]\n",
            " [ 0.25024918]\n",
            " [ 1.4640936 ]\n",
            " [-0.13132859]\n",
            " [ 2.63182661]\n",
            " [-0.87351616]\n",
            " [-3.12648599]\n",
            " [ 1.1394843 ]\n",
            " [-0.7827973 ]\n",
            " [-1.03771705]\n",
            " [ 0.82848014]\n",
            " [-3.76780848]]\n",
            "Mean Squared Error: 25.77\n",
            "25.767510494777838\n"
          ],
          "name": "stdout"
        },
        {
          "output_type": "execute_result",
          "data": {
            "text/plain": [
              "[<matplotlib.lines.Line2D at 0x7fed0ca16710>]"
            ]
          },
          "metadata": {
            "tags": []
          },
          "execution_count": 215
        },
        {
          "output_type": "display_data",
          "data": {
            "image/png": "[encoded data removed]",
            "text/plain": [
              "<Figure size 432x288 with 2 Axes>"
            ]
          },
          "metadata": {
            "tags": []
          }
        }
      ]
    },
    {
      "cell_type": "code",
      "metadata": {
        "id": "_wNZ2bNtDpvr",
        "colab_type": "code",
        "colab": {}
      },
      "source": [
        ""
      ],
      "execution_count": 0,
      "outputs": []
    }
  ]
}