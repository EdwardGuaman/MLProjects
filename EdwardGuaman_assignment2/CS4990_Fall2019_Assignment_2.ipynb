{
  "nbformat": 4,
  "nbformat_minor": 0,
  "metadata": {
    "colab": {
      "name": "CS4990-Fall2019-Assignment 2",
      "provenance": [],
      "collapsed_sections": []
    },
    "kernelspec": {
      "name": "python3",
      "display_name": "Python 3"
    },
    "accelerator": "GPU"
  },
  "cells": [
    {
      "cell_type": "code",
      "metadata": {
        "id": "80Kxzl8KquPz",
        "colab_type": "code",
        "outputId": "34089509-f238-4275-d449-2d08a660eaad",
        "colab": {
          "base_uri": "https://localhost:8080/",
          "height": 34
        }
      },
      "source": [
        "from __future__ import absolute_import, division, print_function, unicode_literals\n",
        "\n",
        "try:\n",
        "  # %tensorflow_version only exists in Colab.\n",
        "  %tensorflow_version 2.x\n",
        "except Exception:\n",
        "  pass\n",
        "\n",
        "# TensorFlow and tf.keras\n",
        "import tensorflow as tf\n",
        "from tensorflow import keras\n",
        "from tensorflow.keras.applications import inception_v3\n",
        "from tensorflow.keras.models import Sequential\n",
        "from tensorflow.keras.layers import Dense, Conv2D, Flatten, Dropout, MaxPooling2D, Reshape\n",
        "from tensorflow.keras.preprocessing.image import ImageDataGenerator\n",
        "\n",
        "import os\n",
        "import numpy as np\n",
        "import matplotlib.pyplot as plt\n",
        "\n",
        "# Helper libraries\n",
        "import numpy as np\n",
        "import matplotlib.pyplot as plt\n",
        "\n",
        "print(tf.__version__)"
      ],
      "execution_count": 0,
      "outputs": [
        {
          "output_type": "stream",
          "text": [
            "2.0.0\n"
          ],
          "name": "stdout"
        }
      ]
    },
    {
      "cell_type": "code",
      "metadata": {
        "id": "M3jF5522z9xq",
        "colab_type": "code",
        "outputId": "1764a1ad-b845-4996-832b-7456731eb05f",
        "colab": {
          "base_uri": "https://localhost:8080/",
          "height": 54
        }
      },
      "source": [
        "from google.colab import drive\n",
        "drive.mount('/content/drive')"
      ],
      "execution_count": 0,
      "outputs": [
        {
          "output_type": "stream",
          "text": [
            "Drive already mounted at /content/drive; to attempt to forcibly remount, call drive.mount(\"/content/drive\", force_remount=True).\n"
          ],
          "name": "stdout"
        }
      ]
    },
    {
      "cell_type": "code",
      "metadata": {
        "id": "P5EabtkbtyTf",
        "colab_type": "code",
        "colab": {}
      },
      "source": [
        "#converting from csv files to numpy arrays\n",
        "from numpy import genfromtxt\n",
        "train_data = genfromtxt(\"/content/drive/My Drive/cs4990-fall2019-assignment-2/train_data.csv\", delimiter = ',')\n",
        "test_data = genfromtxt(\"/content/drive/My Drive/cs4990-fall2019-assignment-2/test_data.csv\", delimiter = ',')\n",
        "train_target = genfromtxt(\"/content/drive/My Drive/cs4990-fall2019-assignment-2/train_target.csv\", delimiter = ',')"
      ],
      "execution_count": 0,
      "outputs": []
    },
    {
      "cell_type": "code",
      "metadata": {
        "id": "pzHuaRSkvHSl",
        "colab_type": "code",
        "outputId": "495cc1bf-41d5-4387-88fb-aeea6b963c23",
        "colab": {
          "base_uri": "https://localhost:8080/",
          "height": 68
        }
      },
      "source": [
        "#printing all loaded data shapes\n",
        "print(train_data.shape)\n",
        "print(test_data.shape)\n",
        "print(train_target.shape)"
      ],
      "execution_count": 0,
      "outputs": [
        {
          "output_type": "stream",
          "text": [
            "(16175, 2304)\n",
            "(3965, 2304)\n",
            "(16175,)\n"
          ],
          "name": "stdout"
        }
      ]
    },
    {
      "cell_type": "code",
      "metadata": {
        "id": "9izumR-f5_HA",
        "colab_type": "code",
        "colab": {}
      },
      "source": [
        "#early version\n",
        "model2 = tf.keras.models.Sequential([\n",
        "  tf.keras.layers.Flatten(),\n",
        "  tf.keras.layers.Dense(256, activation='relu'),\n",
        "  tf.keras.layers.Dense(128, activation='relu'),\n",
        "  tf.keras.layers.Dense(3, activation='softmax')\n",
        "])\n",
        "\n",
        "model2.compile(optimizer = 'adam', loss = 'sparse_categorical_crossentropy', metrics = ['accuracy'])"
      ],
      "execution_count": 0,
      "outputs": []
    },
    {
      "cell_type": "code",
      "metadata": {
        "id": "5rgXtrIiOBiX",
        "colab_type": "code",
        "outputId": "4a34b599-f88b-4c1d-8989-e379b35a0dad",
        "colab": {
          "base_uri": "https://localhost:8080/",
          "height": 51
        }
      },
      "source": [
        "#early data preprocessing and shaping\n",
        "train_data = np.reshape(train_data, (16175, 48, 48, 1))/255\n",
        "test_data = np.reshape(test_data, (3965, 48, 48, 1))/255\n",
        "print(test_data.shape)\n",
        "print(train_data.shape)\n"
      ],
      "execution_count": 0,
      "outputs": [
        {
          "output_type": "stream",
          "text": [
            "(3965, 48, 48, 1)\n",
            "(16175, 48, 48, 1)\n"
          ],
          "name": "stdout"
        }
      ]
    },
    {
      "cell_type": "code",
      "metadata": {
        "colab_type": "code",
        "outputId": "1da671f4-ee2d-4034-8d65-9c9bcce6eb20",
        "id": "ZgzUptMPW_jG",
        "colab": {
          "base_uri": "https://localhost:8080/",
          "height": 50
        }
      },
      "source": [
        "#data preprocessing and shaping for pretrained model\n",
        "train_data = np.reshape(train_data, (16175, 48, 48))/255\n",
        "test_data = np.reshape(test_data, (3965, 48, 48))/255\n",
        "print(test_data.shape)\n",
        "print(train_data.shape)\n"
      ],
      "execution_count": 0,
      "outputs": [
        {
          "output_type": "stream",
          "text": [
            "(3965, 48, 48)\n",
            "(16175, 48, 48)\n"
          ],
          "name": "stdout"
        }
      ]
    },
    {
      "cell_type": "code",
      "metadata": {
        "id": "c_xWc47aWaHB",
        "colab_type": "code",
        "outputId": "10ce064f-1d3c-4be1-a523-1f67916317d7",
        "colab": {
          "base_uri": "https://localhost:8080/",
          "height": 50
        }
      },
      "source": [
        "#data preprocessing for pretrained model continued\n",
        "train_batch = np.repeat(train_data[...,np.newaxis], 3, -1)\n",
        "print(train_batch.shape)\n",
        "test_batch = np.repeat(test_data[...,np.newaxis], 3, -1)\n",
        "print(test_batch.shape)"
      ],
      "execution_count": 0,
      "outputs": [
        {
          "output_type": "stream",
          "text": [
            "(16175, 48, 48, 3)\n",
            "(3965, 48, 48, 3)\n"
          ],
          "name": "stdout"
        }
      ]
    },
    {
      "cell_type": "code",
      "metadata": {
        "id": "W-aIwmG6BG7u",
        "colab_type": "code",
        "outputId": "b5907026-e64b-4798-f172-955f02c67366",
        "colab": {
          "base_uri": "https://localhost:8080/",
          "height": 493
        }
      },
      "source": [
        "#cnn model\n",
        "model = Sequential()\n",
        "model.add(Conv2D(32,(3,3), activation='relu', input_shape=(48,48,1)))\n",
        "model.add(MaxPooling2D(pool_size=(1,1)))\n",
        "\n",
        "model.add(Conv2D(32, (3,3), activation='relu'))\n",
        "model.add(MaxPooling2D(pool_size=(2,2),strides=(2,2)))\n",
        "\n",
        "model.add(Conv2D(64, (3,3), activation='relu'))\n",
        "model.add(MaxPooling2D(pool_size=(2,2),strides=(2,2)))\n",
        "\n",
        "model.add(Flatten())\n",
        "model.add(Dense(64, activation = 'relu'))\n",
        "model.add(Dropout(.5))\n",
        "model.add(Dense(3, activation='softmax'))\n",
        "\n",
        "model.compile(optimizer = 'adam', loss = 'sparse_categorical_crossentropy', metrics = ['accuracy'])\n",
        "model.summary()"
      ],
      "execution_count": 0,
      "outputs": [
        {
          "output_type": "stream",
          "text": [
            "Model: \"sequential_1\"\n",
            "_________________________________________________________________\n",
            "Layer (type)                 Output Shape              Param #   \n",
            "=================================================================\n",
            "conv2d_3 (Conv2D)            (None, 46, 46, 32)        320       \n",
            "_________________________________________________________________\n",
            "max_pooling2d_3 (MaxPooling2 (None, 46, 46, 32)        0         \n",
            "_________________________________________________________________\n",
            "conv2d_4 (Conv2D)            (None, 44, 44, 32)        9248      \n",
            "_________________________________________________________________\n",
            "max_pooling2d_4 (MaxPooling2 (None, 22, 22, 32)        0         \n",
            "_________________________________________________________________\n",
            "conv2d_5 (Conv2D)            (None, 20, 20, 64)        18496     \n",
            "_________________________________________________________________\n",
            "max_pooling2d_5 (MaxPooling2 (None, 10, 10, 64)        0         \n",
            "_________________________________________________________________\n",
            "flatten_1 (Flatten)          (None, 6400)              0         \n",
            "_________________________________________________________________\n",
            "dense_2 (Dense)              (None, 64)                409664    \n",
            "_________________________________________________________________\n",
            "dropout_1 (Dropout)          (None, 64)                0         \n",
            "_________________________________________________________________\n",
            "dense_3 (Dense)              (None, 3)                 195       \n",
            "=================================================================\n",
            "Total params: 437,923\n",
            "Trainable params: 437,923\n",
            "Non-trainable params: 0\n",
            "_________________________________________________________________\n"
          ],
          "name": "stdout"
        }
      ]
    },
    {
      "cell_type": "code",
      "metadata": {
        "colab_type": "code",
        "id": "KwrxmIDeMnI9",
        "outputId": "b6511e5c-2634-4732-e644-41e3dd463b68",
        "colab": {
          "base_uri": "https://localhost:8080/",
          "height": 1000
        }
      },
      "source": [
        "#note change epochs to be 35~ if first time in order to get ~.75 validation accuracy\n",
        "train_datagen = ImageDataGenerator(\n",
        "        shear_range=0.2,\n",
        "        zoom_range=0.2,\n",
        "        horizontal_flip=True,\n",
        "        validation_split=.2)\n",
        "\n",
        "test_datagen = ImageDataGenerator()\n",
        "train_generator = train_datagen.flow(train_data,train_target,batch_size = 32, subset='training')\n",
        "validation_generator = train_datagen.flow(train_data,train_target,batch_size=32,subset='validation')\n",
        "model.fit_generator(train_generator,steps_per_epoch=len(train_data)/32,validation_data=validation_generator, epochs=35)"
      ],
      "execution_count": 0,
      "outputs": [
        {
          "output_type": "stream",
          "text": [
            "Epoch 1/35\n",
            "506/505 [==============================] - 40s 78ms/step - loss: 1.0514 - accuracy: 0.4699 - val_loss: 0.9449 - val_accuracy: 0.5586\n",
            "Epoch 2/35\n",
            "506/505 [==============================] - 39s 78ms/step - loss: 0.9642 - accuracy: 0.5165 - val_loss: 0.8931 - val_accuracy: 0.5824\n",
            "Epoch 3/35\n",
            "506/505 [==============================] - 39s 78ms/step - loss: 0.9262 - accuracy: 0.5534 - val_loss: 0.8615 - val_accuracy: 0.5879\n",
            "Epoch 4/35\n",
            "506/505 [==============================] - 39s 78ms/step - loss: 0.9065 - accuracy: 0.5688 - val_loss: 0.8432 - val_accuracy: 0.6025\n",
            "Epoch 5/35\n",
            "506/505 [==============================] - 40s 79ms/step - loss: 0.8818 - accuracy: 0.5820 - val_loss: 0.8424 - val_accuracy: 0.5997\n",
            "Epoch 6/35\n",
            "506/505 [==============================] - 39s 77ms/step - loss: 0.8614 - accuracy: 0.5981 - val_loss: 0.7926 - val_accuracy: 0.6535\n",
            "Epoch 7/35\n",
            "506/505 [==============================] - 39s 78ms/step - loss: 0.8492 - accuracy: 0.6038 - val_loss: 0.8084 - val_accuracy: 0.6263\n",
            "Epoch 8/35\n",
            "506/505 [==============================] - 39s 77ms/step - loss: 0.8361 - accuracy: 0.6083 - val_loss: 0.7853 - val_accuracy: 0.6399\n",
            "Epoch 9/35\n",
            "506/505 [==============================] - 40s 79ms/step - loss: 0.8274 - accuracy: 0.6193 - val_loss: 0.7630 - val_accuracy: 0.6581\n",
            "Epoch 10/35\n",
            "506/505 [==============================] - 39s 77ms/step - loss: 0.8110 - accuracy: 0.6322 - val_loss: 0.7511 - val_accuracy: 0.6566\n",
            "Epoch 11/35\n",
            "506/505 [==============================] - 40s 79ms/step - loss: 0.8058 - accuracy: 0.6364 - val_loss: 0.7709 - val_accuracy: 0.6374\n",
            "Epoch 12/35\n",
            "506/505 [==============================] - 39s 78ms/step - loss: 0.7978 - accuracy: 0.6411 - val_loss: 0.7317 - val_accuracy: 0.6714\n",
            "Epoch 13/35\n",
            "506/505 [==============================] - 40s 79ms/step - loss: 0.7860 - accuracy: 0.6451 - val_loss: 0.7392 - val_accuracy: 0.6850\n",
            "Epoch 14/35\n",
            "506/505 [==============================] - 39s 78ms/step - loss: 0.7788 - accuracy: 0.6496 - val_loss: 0.7441 - val_accuracy: 0.6501\n",
            "Epoch 15/35\n",
            "506/505 [==============================] - 40s 78ms/step - loss: 0.7678 - accuracy: 0.6507 - val_loss: 0.7152 - val_accuracy: 0.6971\n",
            "Epoch 16/35\n",
            "506/505 [==============================] - 39s 78ms/step - loss: 0.7653 - accuracy: 0.6591 - val_loss: 0.7100 - val_accuracy: 0.6878\n",
            "Epoch 17/35\n",
            "506/505 [==============================] - 39s 78ms/step - loss: 0.7627 - accuracy: 0.6609 - val_loss: 0.6912 - val_accuracy: 0.6943\n",
            "Epoch 18/35\n",
            "506/505 [==============================] - 40s 78ms/step - loss: 0.7554 - accuracy: 0.6664 - val_loss: 0.6966 - val_accuracy: 0.7032\n",
            "Epoch 19/35\n",
            "506/505 [==============================] - 40s 78ms/step - loss: 0.7496 - accuracy: 0.6688 - val_loss: 0.7263 - val_accuracy: 0.6807\n",
            "Epoch 20/35\n",
            "506/505 [==============================] - 39s 77ms/step - loss: 0.7515 - accuracy: 0.6692 - val_loss: 0.6894 - val_accuracy: 0.7011\n",
            "Epoch 21/35\n",
            "506/505 [==============================] - 40s 79ms/step - loss: 0.7458 - accuracy: 0.6670 - val_loss: 0.6909 - val_accuracy: 0.6943\n",
            "Epoch 22/35\n",
            "506/505 [==============================] - 40s 78ms/step - loss: 0.7360 - accuracy: 0.6755 - val_loss: 0.6779 - val_accuracy: 0.7054\n",
            "Epoch 23/35\n",
            "506/505 [==============================] - 39s 77ms/step - loss: 0.7328 - accuracy: 0.6773 - val_loss: 0.6731 - val_accuracy: 0.6986\n",
            "Epoch 24/35\n",
            "506/505 [==============================] - 39s 78ms/step - loss: 0.7393 - accuracy: 0.6765 - val_loss: 0.6701 - val_accuracy: 0.7162\n",
            "Epoch 25/35\n",
            "506/505 [==============================] - 39s 78ms/step - loss: 0.7285 - accuracy: 0.6770 - val_loss: 0.6778 - val_accuracy: 0.7125\n",
            "Epoch 26/35\n",
            "506/505 [==============================] - 39s 77ms/step - loss: 0.7187 - accuracy: 0.6878 - val_loss: 0.6695 - val_accuracy: 0.6995\n",
            "Epoch 27/35\n",
            "506/505 [==============================] - 40s 78ms/step - loss: 0.7183 - accuracy: 0.6877 - val_loss: 0.6648 - val_accuracy: 0.7097\n",
            "Epoch 28/35\n",
            "506/505 [==============================] - 39s 78ms/step - loss: 0.7161 - accuracy: 0.6905 - val_loss: 0.6604 - val_accuracy: 0.7147\n",
            "Epoch 29/35\n",
            "506/505 [==============================] - 40s 79ms/step - loss: 0.7095 - accuracy: 0.6883 - val_loss: 0.6667 - val_accuracy: 0.7088\n",
            "Epoch 30/35\n",
            "506/505 [==============================] - 39s 77ms/step - loss: 0.7068 - accuracy: 0.6929 - val_loss: 0.6707 - val_accuracy: 0.7122\n",
            "Epoch 31/35\n",
            "506/505 [==============================] - 39s 77ms/step - loss: 0.7060 - accuracy: 0.6962 - val_loss: 0.6809 - val_accuracy: 0.6930\n",
            "Epoch 32/35\n",
            "506/505 [==============================] - 39s 77ms/step - loss: 0.7052 - accuracy: 0.6921 - val_loss: 0.6829 - val_accuracy: 0.7042\n",
            "Epoch 33/35\n",
            "506/505 [==============================] - 39s 77ms/step - loss: 0.6980 - accuracy: 0.7036 - val_loss: 0.6726 - val_accuracy: 0.6974\n",
            "Epoch 34/35\n",
            "506/505 [==============================] - 39s 77ms/step - loss: 0.6962 - accuracy: 0.6973 - val_loss: 0.6534 - val_accuracy: 0.7116\n",
            "Epoch 35/35\n",
            "506/505 [==============================] - 39s 76ms/step - loss: 0.7016 - accuracy: 0.6979 - val_loss: 0.6522 - val_accuracy: 0.7202\n"
          ],
          "name": "stdout"
        },
        {
          "output_type": "execute_result",
          "data": {
            "text/plain": [
              "<tensorflow.python.keras.callbacks.History at 0x7fdf36015e48>"
            ]
          },
          "metadata": {
            "tags": []
          },
          "execution_count": 22
        }
      ]
    },
    {
      "cell_type": "code",
      "metadata": {
        "id": "HCkYan_0Lwm5",
        "colab_type": "code",
        "colab": {}
      },
      "source": [
        "#vg model (attemp) does not work\n",
        "train_datagen=ImageDataGenerator(\n",
        "        rotation_range=20,\n",
        "        width_shift_range=.2,\n",
        "        height_shift_range=.2,\n",
        "        shear_range=0.2,\n",
        "        zoom_range=0.2,\n",
        "        horizontal_flip=True,\n",
        "        validation_split=.2)\n",
        "m = inception_v3.InceptionV3(include_top=False, weights='imagenet')\n",
        "m = Sequential()\n",
        "m.add(Flatten())\n",
        "m.add(Dense(256,activation='relu'))\n",
        "m.add(Dropout(.5))\n",
        "m.add(Dense(3,activation='softmax'))\n",
        "\n",
        "m.compile(optimizer = 'adam', loss = 'sparse_categorical_crossentropy', metrics = ['accuracy'])\n",
        "m.fit(train_batch,train_target,epochs=3,validation_data=)\n",
        "#generator = train_datagen.flow(train_batch,shuffle=False,subset='training')\n",
        "#bottleneck_train = m.predict_generator(generator,32)\n",
        "#np.save(open('bottleneck_features_train.npy', 'w'), bottleneck_train)\n",
        "\n",
        "#generator = train_datagen.flow(train_batch,shuffle=False,subset='validation')\n",
        "#bottleneck_validation = m.predict_generator(generator,32)\n",
        "#np.save(open('bottleneck_features_validation.npy', 'w'), bottleneck_validation)\n"
      ],
      "execution_count": 0,
      "outputs": []
    },
    {
      "cell_type": "code",
      "metadata": {
        "id": "NjrIIWYs72rh",
        "colab_type": "code",
        "outputId": "505630d1-9214-4146-a877-2f896acb56a4",
        "colab": {
          "base_uri": "https://localhost:8080/",
          "height": 1000
        }
      },
      "source": [
        "#fitting old model epochs at 12 gets ~.73\n",
        "model.fit(train_data, train_target, validation_split = .15, epochs = 35)"
      ],
      "execution_count": 0,
      "outputs": [
        {
          "output_type": "stream",
          "text": [
            "Train on 13748 samples, validate on 2427 samples\n",
            "Epoch 1/35\n",
            "13748/13748 [==============================] - 7s 526us/sample - loss: 1.0174 - accuracy: 0.4885 - val_loss: 0.8685 - val_accuracy: 0.6148\n",
            "Epoch 2/35\n",
            "13748/13748 [==============================] - 6s 430us/sample - loss: 0.8596 - accuracy: 0.5965 - val_loss: 0.7695 - val_accuracy: 0.6663\n",
            "Epoch 3/35\n",
            "13748/13748 [==============================] - 6s 422us/sample - loss: 0.7798 - accuracy: 0.6434 - val_loss: 0.7267 - val_accuracy: 0.6786\n",
            "Epoch 4/35\n",
            "13748/13748 [==============================] - 6s 427us/sample - loss: 0.7345 - accuracy: 0.6680 - val_loss: 0.6837 - val_accuracy: 0.6951\n",
            "Epoch 5/35\n",
            "13748/13748 [==============================] - 6s 425us/sample - loss: 0.6854 - accuracy: 0.6935 - val_loss: 0.6732 - val_accuracy: 0.7025\n",
            "Epoch 6/35\n",
            "13748/13748 [==============================] - 6s 422us/sample - loss: 0.6472 - accuracy: 0.7157 - val_loss: 0.6519 - val_accuracy: 0.7244\n",
            "Epoch 7/35\n",
            "13748/13748 [==============================] - 6s 429us/sample - loss: 0.6187 - accuracy: 0.7310 - val_loss: 0.6489 - val_accuracy: 0.7103\n",
            "Epoch 8/35\n",
            "13748/13748 [==============================] - 6s 416us/sample - loss: 0.5857 - accuracy: 0.7426 - val_loss: 0.6245 - val_accuracy: 0.7293\n",
            "Epoch 9/35\n",
            "13748/13748 [==============================] - 6s 427us/sample - loss: 0.5533 - accuracy: 0.7576 - val_loss: 0.6366 - val_accuracy: 0.7347\n",
            "Epoch 10/35\n",
            "13748/13748 [==============================] - 6s 420us/sample - loss: 0.5256 - accuracy: 0.7699 - val_loss: 0.6312 - val_accuracy: 0.7256\n",
            "Epoch 11/35\n",
            "13748/13748 [==============================] - 6s 423us/sample - loss: 0.5032 - accuracy: 0.7781 - val_loss: 0.6193 - val_accuracy: 0.7495\n",
            "Epoch 12/35\n",
            "13748/13748 [==============================] - 6s 430us/sample - loss: 0.4702 - accuracy: 0.7919 - val_loss: 0.6407 - val_accuracy: 0.7421\n",
            "Epoch 13/35\n",
            "13748/13748 [==============================] - 6s 422us/sample - loss: 0.4466 - accuracy: 0.8058 - val_loss: 0.6629 - val_accuracy: 0.7281\n",
            "Epoch 14/35\n",
            "13748/13748 [==============================] - 6s 419us/sample - loss: 0.4227 - accuracy: 0.8126 - val_loss: 0.6748 - val_accuracy: 0.7367\n",
            "Epoch 15/35\n",
            "13748/13748 [==============================] - 6s 430us/sample - loss: 0.3978 - accuracy: 0.8254 - val_loss: 0.7186 - val_accuracy: 0.7379\n",
            "Epoch 16/35\n",
            "13748/13748 [==============================] - 6s 420us/sample - loss: 0.3780 - accuracy: 0.8314 - val_loss: 0.8048 - val_accuracy: 0.7289\n",
            "Epoch 17/35\n",
            "13748/13748 [==============================] - 6s 424us/sample - loss: 0.3637 - accuracy: 0.8344 - val_loss: 0.8121 - val_accuracy: 0.7268\n",
            "Epoch 18/35\n",
            "13748/13748 [==============================] - 6s 417us/sample - loss: 0.3450 - accuracy: 0.8451 - val_loss: 0.8390 - val_accuracy: 0.7260\n",
            "Epoch 19/35\n",
            "13748/13748 [==============================] - 6s 423us/sample - loss: 0.3318 - accuracy: 0.8517 - val_loss: 0.9010 - val_accuracy: 0.7330\n",
            "Epoch 20/35\n",
            "13748/13748 [==============================] - 6s 427us/sample - loss: 0.3172 - accuracy: 0.8547 - val_loss: 0.8320 - val_accuracy: 0.7379\n",
            "Epoch 21/35\n",
            "13748/13748 [==============================] - 6s 414us/sample - loss: 0.3115 - accuracy: 0.8580 - val_loss: 0.8936 - val_accuracy: 0.7359\n",
            "Epoch 22/35\n",
            "13748/13748 [==============================] - 6s 431us/sample - loss: 0.3023 - accuracy: 0.8634 - val_loss: 0.9757 - val_accuracy: 0.7433\n",
            "Epoch 23/35\n",
            "13748/13748 [==============================] - 6s 419us/sample - loss: 0.2948 - accuracy: 0.8635 - val_loss: 1.1314 - val_accuracy: 0.7375\n",
            "Epoch 24/35\n",
            "13748/13748 [==============================] - 6s 419us/sample - loss: 0.2794 - accuracy: 0.8677 - val_loss: 1.0164 - val_accuracy: 0.7309\n",
            "Epoch 25/35\n",
            "13748/13748 [==============================] - 6s 427us/sample - loss: 0.2754 - accuracy: 0.8750 - val_loss: 1.0476 - val_accuracy: 0.7363\n",
            "Epoch 26/35\n",
            "13748/13748 [==============================] - 6s 410us/sample - loss: 0.2661 - accuracy: 0.8784 - val_loss: 1.1884 - val_accuracy: 0.7367\n",
            "Epoch 27/35\n",
            "13748/13748 [==============================] - 6s 429us/sample - loss: 0.2603 - accuracy: 0.8781 - val_loss: 1.1409 - val_accuracy: 0.7231\n",
            "Epoch 28/35\n",
            "13748/13748 [==============================] - 6s 421us/sample - loss: 0.2588 - accuracy: 0.8793 - val_loss: 1.2034 - val_accuracy: 0.7338\n",
            "Epoch 29/35\n",
            "13748/13748 [==============================] - 6s 441us/sample - loss: 0.2512 - accuracy: 0.8843 - val_loss: 1.2321 - val_accuracy: 0.7371\n",
            "Epoch 30/35\n",
            "13748/13748 [==============================] - 6s 428us/sample - loss: 0.2479 - accuracy: 0.8862 - val_loss: 1.2607 - val_accuracy: 0.7342\n",
            "Epoch 31/35\n",
            "13748/13748 [==============================] - 6s 420us/sample - loss: 0.2472 - accuracy: 0.8865 - val_loss: 1.1784 - val_accuracy: 0.7334\n",
            "Epoch 32/35\n",
            "13748/13748 [==============================] - 6s 430us/sample - loss: 0.2389 - accuracy: 0.8876 - val_loss: 1.3273 - val_accuracy: 0.7334\n",
            "Epoch 33/35\n",
            " 3296/13748 [======>.......................] - ETA: 4s - loss: 0.2195 - accuracy: 0.8998"
          ],
          "name": "stdout"
        },
        {
          "output_type": "error",
          "ename": "KeyboardInterrupt",
          "evalue": "ignored",
          "traceback": [
            "\u001b[0;31m---------------------------------------------------------------------------\u001b[0m",
            "\u001b[0;31mKeyboardInterrupt\u001b[0m                         Traceback (most recent call last)",
            "\u001b[0;32m<ipython-input-19-0c6211e701c6>\u001b[0m in \u001b[0;36m<module>\u001b[0;34m()\u001b[0m\n\u001b[0;32m----> 1\u001b[0;31m \u001b[0mmodel\u001b[0m\u001b[0;34m.\u001b[0m\u001b[0mfit\u001b[0m\u001b[0;34m(\u001b[0m\u001b[0mtrain_data\u001b[0m\u001b[0;34m,\u001b[0m \u001b[0mtrain_target\u001b[0m\u001b[0;34m,\u001b[0m \u001b[0mvalidation_split\u001b[0m \u001b[0;34m=\u001b[0m \u001b[0;36m.15\u001b[0m\u001b[0;34m,\u001b[0m \u001b[0mepochs\u001b[0m \u001b[0;34m=\u001b[0m \u001b[0;36m35\u001b[0m\u001b[0;34m)\u001b[0m\u001b[0;34m\u001b[0m\u001b[0;34m\u001b[0m\u001b[0m\n\u001b[0m",
            "\u001b[0;32m/tensorflow-2.0.0/python3.6/tensorflow_core/python/keras/engine/training.py\u001b[0m in \u001b[0;36mfit\u001b[0;34m(self, x, y, batch_size, epochs, verbose, callbacks, validation_split, validation_data, shuffle, class_weight, sample_weight, initial_epoch, steps_per_epoch, validation_steps, validation_freq, max_queue_size, workers, use_multiprocessing, **kwargs)\u001b[0m\n\u001b[1;32m    726\u001b[0m         \u001b[0mmax_queue_size\u001b[0m\u001b[0;34m=\u001b[0m\u001b[0mmax_queue_size\u001b[0m\u001b[0;34m,\u001b[0m\u001b[0;34m\u001b[0m\u001b[0;34m\u001b[0m\u001b[0m\n\u001b[1;32m    727\u001b[0m         \u001b[0mworkers\u001b[0m\u001b[0;34m=\u001b[0m\u001b[0mworkers\u001b[0m\u001b[0;34m,\u001b[0m\u001b[0;34m\u001b[0m\u001b[0;34m\u001b[0m\u001b[0m\n\u001b[0;32m--> 728\u001b[0;31m         use_multiprocessing=use_multiprocessing)\n\u001b[0m\u001b[1;32m    729\u001b[0m \u001b[0;34m\u001b[0m\u001b[0m\n\u001b[1;32m    730\u001b[0m   def evaluate(self,\n",
            "\u001b[0;32m/tensorflow-2.0.0/python3.6/tensorflow_core/python/keras/engine/training_v2.py\u001b[0m in \u001b[0;36mfit\u001b[0;34m(self, model, x, y, batch_size, epochs, verbose, callbacks, validation_split, validation_data, shuffle, class_weight, sample_weight, initial_epoch, steps_per_epoch, validation_steps, validation_freq, **kwargs)\u001b[0m\n\u001b[1;32m    322\u001b[0m                 \u001b[0mmode\u001b[0m\u001b[0;34m=\u001b[0m\u001b[0mModeKeys\u001b[0m\u001b[0;34m.\u001b[0m\u001b[0mTRAIN\u001b[0m\u001b[0;34m,\u001b[0m\u001b[0;34m\u001b[0m\u001b[0;34m\u001b[0m\u001b[0m\n\u001b[1;32m    323\u001b[0m                 \u001b[0mtraining_context\u001b[0m\u001b[0;34m=\u001b[0m\u001b[0mtraining_context\u001b[0m\u001b[0;34m,\u001b[0m\u001b[0;34m\u001b[0m\u001b[0;34m\u001b[0m\u001b[0m\n\u001b[0;32m--> 324\u001b[0;31m                 total_epochs=epochs)\n\u001b[0m\u001b[1;32m    325\u001b[0m             \u001b[0mcbks\u001b[0m\u001b[0;34m.\u001b[0m\u001b[0mmake_logs\u001b[0m\u001b[0;34m(\u001b[0m\u001b[0mmodel\u001b[0m\u001b[0;34m,\u001b[0m \u001b[0mepoch_logs\u001b[0m\u001b[0;34m,\u001b[0m \u001b[0mtraining_result\u001b[0m\u001b[0;34m,\u001b[0m \u001b[0mModeKeys\u001b[0m\u001b[0;34m.\u001b[0m\u001b[0mTRAIN\u001b[0m\u001b[0;34m)\u001b[0m\u001b[0;34m\u001b[0m\u001b[0;34m\u001b[0m\u001b[0m\n\u001b[1;32m    326\u001b[0m \u001b[0;34m\u001b[0m\u001b[0m\n",
            "\u001b[0;32m/tensorflow-2.0.0/python3.6/tensorflow_core/python/keras/engine/training_v2.py\u001b[0m in \u001b[0;36mrun_one_epoch\u001b[0;34m(model, iterator, execution_function, dataset_size, batch_size, strategy, steps_per_epoch, num_samples, mode, training_context, total_epochs)\u001b[0m\n\u001b[1;32m    121\u001b[0m         step=step, mode=mode, size=current_batch_size) as batch_logs:\n\u001b[1;32m    122\u001b[0m       \u001b[0;32mtry\u001b[0m\u001b[0;34m:\u001b[0m\u001b[0;34m\u001b[0m\u001b[0;34m\u001b[0m\u001b[0m\n\u001b[0;32m--> 123\u001b[0;31m         \u001b[0mbatch_outs\u001b[0m \u001b[0;34m=\u001b[0m \u001b[0mexecution_function\u001b[0m\u001b[0;34m(\u001b[0m\u001b[0miterator\u001b[0m\u001b[0;34m)\u001b[0m\u001b[0;34m\u001b[0m\u001b[0;34m\u001b[0m\u001b[0m\n\u001b[0m\u001b[1;32m    124\u001b[0m       \u001b[0;32mexcept\u001b[0m \u001b[0;34m(\u001b[0m\u001b[0mStopIteration\u001b[0m\u001b[0;34m,\u001b[0m \u001b[0merrors\u001b[0m\u001b[0;34m.\u001b[0m\u001b[0mOutOfRangeError\u001b[0m\u001b[0;34m)\u001b[0m\u001b[0;34m:\u001b[0m\u001b[0;34m\u001b[0m\u001b[0;34m\u001b[0m\u001b[0m\n\u001b[1;32m    125\u001b[0m         \u001b[0;31m# TODO(kaftan): File bug about tf function and errors.OutOfRangeError?\u001b[0m\u001b[0;34m\u001b[0m\u001b[0;34m\u001b[0m\u001b[0;34m\u001b[0m\u001b[0m\n",
            "\u001b[0;32m/tensorflow-2.0.0/python3.6/tensorflow_core/python/keras/engine/training_v2_utils.py\u001b[0m in \u001b[0;36mexecution_function\u001b[0;34m(input_fn)\u001b[0m\n\u001b[1;32m     84\u001b[0m     \u001b[0;31m# `numpy` translates Tensors to values in Eager mode.\u001b[0m\u001b[0;34m\u001b[0m\u001b[0;34m\u001b[0m\u001b[0;34m\u001b[0m\u001b[0m\n\u001b[1;32m     85\u001b[0m     return nest.map_structure(_non_none_constant_value,\n\u001b[0;32m---> 86\u001b[0;31m                               distributed_function(input_fn))\n\u001b[0m\u001b[1;32m     87\u001b[0m \u001b[0;34m\u001b[0m\u001b[0m\n\u001b[1;32m     88\u001b[0m   \u001b[0;32mreturn\u001b[0m \u001b[0mexecution_function\u001b[0m\u001b[0;34m\u001b[0m\u001b[0;34m\u001b[0m\u001b[0m\n",
            "\u001b[0;32m/tensorflow-2.0.0/python3.6/tensorflow_core/python/eager/def_function.py\u001b[0m in \u001b[0;36m__call__\u001b[0;34m(self, *args, **kwds)\u001b[0m\n\u001b[1;32m    455\u001b[0m \u001b[0;34m\u001b[0m\u001b[0m\n\u001b[1;32m    456\u001b[0m     \u001b[0mtracing_count\u001b[0m \u001b[0;34m=\u001b[0m \u001b[0mself\u001b[0m\u001b[0;34m.\u001b[0m\u001b[0m_get_tracing_count\u001b[0m\u001b[0;34m(\u001b[0m\u001b[0;34m)\u001b[0m\u001b[0;34m\u001b[0m\u001b[0;34m\u001b[0m\u001b[0m\n\u001b[0;32m--> 457\u001b[0;31m     \u001b[0mresult\u001b[0m \u001b[0;34m=\u001b[0m \u001b[0mself\u001b[0m\u001b[0;34m.\u001b[0m\u001b[0m_call\u001b[0m\u001b[0;34m(\u001b[0m\u001b[0;34m*\u001b[0m\u001b[0margs\u001b[0m\u001b[0;34m,\u001b[0m \u001b[0;34m**\u001b[0m\u001b[0mkwds\u001b[0m\u001b[0;34m)\u001b[0m\u001b[0;34m\u001b[0m\u001b[0;34m\u001b[0m\u001b[0m\n\u001b[0m\u001b[1;32m    458\u001b[0m     \u001b[0;32mif\u001b[0m \u001b[0mtracing_count\u001b[0m \u001b[0;34m==\u001b[0m \u001b[0mself\u001b[0m\u001b[0;34m.\u001b[0m\u001b[0m_get_tracing_count\u001b[0m\u001b[0;34m(\u001b[0m\u001b[0;34m)\u001b[0m\u001b[0;34m:\u001b[0m\u001b[0;34m\u001b[0m\u001b[0;34m\u001b[0m\u001b[0m\n\u001b[1;32m    459\u001b[0m       \u001b[0mself\u001b[0m\u001b[0;34m.\u001b[0m\u001b[0m_call_counter\u001b[0m\u001b[0;34m.\u001b[0m\u001b[0mcalled_without_tracing\u001b[0m\u001b[0;34m(\u001b[0m\u001b[0;34m)\u001b[0m\u001b[0;34m\u001b[0m\u001b[0;34m\u001b[0m\u001b[0m\n",
            "\u001b[0;32m/tensorflow-2.0.0/python3.6/tensorflow_core/python/eager/def_function.py\u001b[0m in \u001b[0;36m_call\u001b[0;34m(self, *args, **kwds)\u001b[0m\n\u001b[1;32m    485\u001b[0m       \u001b[0;31m# In this case we have created variables on the first call, so we run the\u001b[0m\u001b[0;34m\u001b[0m\u001b[0;34m\u001b[0m\u001b[0;34m\u001b[0m\u001b[0m\n\u001b[1;32m    486\u001b[0m       \u001b[0;31m# defunned version which is guaranteed to never create variables.\u001b[0m\u001b[0;34m\u001b[0m\u001b[0;34m\u001b[0m\u001b[0;34m\u001b[0m\u001b[0m\n\u001b[0;32m--> 487\u001b[0;31m       \u001b[0;32mreturn\u001b[0m \u001b[0mself\u001b[0m\u001b[0;34m.\u001b[0m\u001b[0m_stateless_fn\u001b[0m\u001b[0;34m(\u001b[0m\u001b[0;34m*\u001b[0m\u001b[0margs\u001b[0m\u001b[0;34m,\u001b[0m \u001b[0;34m**\u001b[0m\u001b[0mkwds\u001b[0m\u001b[0;34m)\u001b[0m  \u001b[0;31m# pylint: disable=not-callable\u001b[0m\u001b[0;34m\u001b[0m\u001b[0;34m\u001b[0m\u001b[0m\n\u001b[0m\u001b[1;32m    488\u001b[0m     \u001b[0;32melif\u001b[0m \u001b[0mself\u001b[0m\u001b[0;34m.\u001b[0m\u001b[0m_stateful_fn\u001b[0m \u001b[0;32mis\u001b[0m \u001b[0;32mnot\u001b[0m \u001b[0;32mNone\u001b[0m\u001b[0;34m:\u001b[0m\u001b[0;34m\u001b[0m\u001b[0;34m\u001b[0m\u001b[0m\n\u001b[1;32m    489\u001b[0m       \u001b[0;31m# Release the lock early so that multiple threads can perform the call\u001b[0m\u001b[0;34m\u001b[0m\u001b[0;34m\u001b[0m\u001b[0;34m\u001b[0m\u001b[0m\n",
            "\u001b[0;32m/tensorflow-2.0.0/python3.6/tensorflow_core/python/eager/function.py\u001b[0m in \u001b[0;36m__call__\u001b[0;34m(self, *args, **kwargs)\u001b[0m\n\u001b[1;32m   1821\u001b[0m     \u001b[0;34m\"\"\"Calls a graph function specialized to the inputs.\"\"\"\u001b[0m\u001b[0;34m\u001b[0m\u001b[0;34m\u001b[0m\u001b[0m\n\u001b[1;32m   1822\u001b[0m     \u001b[0mgraph_function\u001b[0m\u001b[0;34m,\u001b[0m \u001b[0margs\u001b[0m\u001b[0;34m,\u001b[0m \u001b[0mkwargs\u001b[0m \u001b[0;34m=\u001b[0m \u001b[0mself\u001b[0m\u001b[0;34m.\u001b[0m\u001b[0m_maybe_define_function\u001b[0m\u001b[0;34m(\u001b[0m\u001b[0margs\u001b[0m\u001b[0;34m,\u001b[0m \u001b[0mkwargs\u001b[0m\u001b[0;34m)\u001b[0m\u001b[0;34m\u001b[0m\u001b[0;34m\u001b[0m\u001b[0m\n\u001b[0;32m-> 1823\u001b[0;31m     \u001b[0;32mreturn\u001b[0m \u001b[0mgraph_function\u001b[0m\u001b[0;34m.\u001b[0m\u001b[0m_filtered_call\u001b[0m\u001b[0;34m(\u001b[0m\u001b[0margs\u001b[0m\u001b[0;34m,\u001b[0m \u001b[0mkwargs\u001b[0m\u001b[0;34m)\u001b[0m  \u001b[0;31m# pylint: disable=protected-access\u001b[0m\u001b[0;34m\u001b[0m\u001b[0;34m\u001b[0m\u001b[0m\n\u001b[0m\u001b[1;32m   1824\u001b[0m \u001b[0;34m\u001b[0m\u001b[0m\n\u001b[1;32m   1825\u001b[0m   \u001b[0;34m@\u001b[0m\u001b[0mproperty\u001b[0m\u001b[0;34m\u001b[0m\u001b[0;34m\u001b[0m\u001b[0m\n",
            "\u001b[0;32m/tensorflow-2.0.0/python3.6/tensorflow_core/python/eager/function.py\u001b[0m in \u001b[0;36m_filtered_call\u001b[0;34m(self, args, kwargs)\u001b[0m\n\u001b[1;32m   1139\u001b[0m          if isinstance(t, (ops.Tensor,\n\u001b[1;32m   1140\u001b[0m                            resource_variable_ops.BaseResourceVariable))),\n\u001b[0;32m-> 1141\u001b[0;31m         self.captured_inputs)\n\u001b[0m\u001b[1;32m   1142\u001b[0m \u001b[0;34m\u001b[0m\u001b[0m\n\u001b[1;32m   1143\u001b[0m   \u001b[0;32mdef\u001b[0m \u001b[0m_call_flat\u001b[0m\u001b[0;34m(\u001b[0m\u001b[0mself\u001b[0m\u001b[0;34m,\u001b[0m \u001b[0margs\u001b[0m\u001b[0;34m,\u001b[0m \u001b[0mcaptured_inputs\u001b[0m\u001b[0;34m,\u001b[0m \u001b[0mcancellation_manager\u001b[0m\u001b[0;34m=\u001b[0m\u001b[0;32mNone\u001b[0m\u001b[0;34m)\u001b[0m\u001b[0;34m:\u001b[0m\u001b[0;34m\u001b[0m\u001b[0;34m\u001b[0m\u001b[0m\n",
            "\u001b[0;32m/tensorflow-2.0.0/python3.6/tensorflow_core/python/eager/function.py\u001b[0m in \u001b[0;36m_call_flat\u001b[0;34m(self, args, captured_inputs, cancellation_manager)\u001b[0m\n\u001b[1;32m   1222\u001b[0m     \u001b[0;32mif\u001b[0m \u001b[0mexecuting_eagerly\u001b[0m\u001b[0;34m:\u001b[0m\u001b[0;34m\u001b[0m\u001b[0;34m\u001b[0m\u001b[0m\n\u001b[1;32m   1223\u001b[0m       flat_outputs = forward_function.call(\n\u001b[0;32m-> 1224\u001b[0;31m           ctx, args, cancellation_manager=cancellation_manager)\n\u001b[0m\u001b[1;32m   1225\u001b[0m     \u001b[0;32melse\u001b[0m\u001b[0;34m:\u001b[0m\u001b[0;34m\u001b[0m\u001b[0;34m\u001b[0m\u001b[0m\n\u001b[1;32m   1226\u001b[0m       \u001b[0mgradient_name\u001b[0m \u001b[0;34m=\u001b[0m \u001b[0mself\u001b[0m\u001b[0;34m.\u001b[0m\u001b[0m_delayed_rewrite_functions\u001b[0m\u001b[0;34m.\u001b[0m\u001b[0mregister\u001b[0m\u001b[0;34m(\u001b[0m\u001b[0;34m)\u001b[0m\u001b[0;34m\u001b[0m\u001b[0;34m\u001b[0m\u001b[0m\n",
            "\u001b[0;32m/tensorflow-2.0.0/python3.6/tensorflow_core/python/eager/function.py\u001b[0m in \u001b[0;36mcall\u001b[0;34m(self, ctx, args, cancellation_manager)\u001b[0m\n\u001b[1;32m    509\u001b[0m               \u001b[0minputs\u001b[0m\u001b[0;34m=\u001b[0m\u001b[0margs\u001b[0m\u001b[0;34m,\u001b[0m\u001b[0;34m\u001b[0m\u001b[0;34m\u001b[0m\u001b[0m\n\u001b[1;32m    510\u001b[0m               \u001b[0mattrs\u001b[0m\u001b[0;34m=\u001b[0m\u001b[0;34m(\u001b[0m\u001b[0;34m\"executor_type\"\u001b[0m\u001b[0;34m,\u001b[0m \u001b[0mexecutor_type\u001b[0m\u001b[0;34m,\u001b[0m \u001b[0;34m\"config_proto\"\u001b[0m\u001b[0;34m,\u001b[0m \u001b[0mconfig\u001b[0m\u001b[0;34m)\u001b[0m\u001b[0;34m,\u001b[0m\u001b[0;34m\u001b[0m\u001b[0;34m\u001b[0m\u001b[0m\n\u001b[0;32m--> 511\u001b[0;31m               ctx=ctx)\n\u001b[0m\u001b[1;32m    512\u001b[0m         \u001b[0;32melse\u001b[0m\u001b[0;34m:\u001b[0m\u001b[0;34m\u001b[0m\u001b[0;34m\u001b[0m\u001b[0m\n\u001b[1;32m    513\u001b[0m           outputs = execute.execute_with_cancellation(\n",
            "\u001b[0;32m/tensorflow-2.0.0/python3.6/tensorflow_core/python/eager/execute.py\u001b[0m in \u001b[0;36mquick_execute\u001b[0;34m(op_name, num_outputs, inputs, attrs, ctx, name)\u001b[0m\n\u001b[1;32m     59\u001b[0m     tensors = pywrap_tensorflow.TFE_Py_Execute(ctx._handle, device_name,\n\u001b[1;32m     60\u001b[0m                                                \u001b[0mop_name\u001b[0m\u001b[0;34m,\u001b[0m \u001b[0minputs\u001b[0m\u001b[0;34m,\u001b[0m \u001b[0mattrs\u001b[0m\u001b[0;34m,\u001b[0m\u001b[0;34m\u001b[0m\u001b[0;34m\u001b[0m\u001b[0m\n\u001b[0;32m---> 61\u001b[0;31m                                                num_outputs)\n\u001b[0m\u001b[1;32m     62\u001b[0m   \u001b[0;32mexcept\u001b[0m \u001b[0mcore\u001b[0m\u001b[0;34m.\u001b[0m\u001b[0m_NotOkStatusException\u001b[0m \u001b[0;32mas\u001b[0m \u001b[0me\u001b[0m\u001b[0;34m:\u001b[0m\u001b[0;34m\u001b[0m\u001b[0;34m\u001b[0m\u001b[0m\n\u001b[1;32m     63\u001b[0m     \u001b[0;32mif\u001b[0m \u001b[0mname\u001b[0m \u001b[0;32mis\u001b[0m \u001b[0;32mnot\u001b[0m \u001b[0;32mNone\u001b[0m\u001b[0;34m:\u001b[0m\u001b[0;34m\u001b[0m\u001b[0;34m\u001b[0m\u001b[0m\n",
            "\u001b[0;31mKeyboardInterrupt\u001b[0m: "
          ]
        }
      ]
    },
    {
      "cell_type": "code",
      "metadata": {
        "id": "UfrQy6j2Gvqn",
        "colab_type": "code",
        "colab": {}
      },
      "source": [
        "#making prediction of test data and using argmax to make final predictions\n",
        "predictions = model.predict(test_data)\n",
        "fp = np.array([])\n",
        "for row in predictions:\n",
        "  fp = np.append(fp,np.argmax(row))"
      ],
      "execution_count": 0,
      "outputs": []
    },
    {
      "cell_type": "code",
      "metadata": {
        "id": "SU20aKjcPm4X",
        "colab_type": "code",
        "outputId": "bdb4f71c-142c-41ff-e4a7-aa281d31d1e0",
        "colab": {
          "base_uri": "https://localhost:8080/",
          "height": 68
        }
      },
      "source": [
        "#creating id column and merging with prediction\n",
        "id1 = np.arange(len(predictions))\n",
        "print(id1.shape)\n",
        "print(fp.shape)\n",
        "merged = np.vstack((id1,fp)).T\n",
        "merged.shape"
      ],
      "execution_count": 0,
      "outputs": [
        {
          "output_type": "stream",
          "text": [
            "(3965,)\n",
            "(3965,)\n"
          ],
          "name": "stdout"
        },
        {
          "output_type": "execute_result",
          "data": {
            "text/plain": [
              "(3965, 2)"
            ]
          },
          "metadata": {
            "tags": []
          },
          "execution_count": 50
        }
      ]
    },
    {
      "cell_type": "code",
      "metadata": {
        "id": "AkQIiv0TMu6b",
        "colab_type": "code",
        "colab": {}
      },
      "source": [
        "#converting from numpy array to csv\n",
        "np.savetxt('firstsub.csv', merged, delimiter=',', fmt = '%d')"
      ],
      "execution_count": 0,
      "outputs": []
    },
    {
      "cell_type": "code",
      "metadata": {
        "id": "aMbK8AehU3RP",
        "colab_type": "code",
        "colab": {}
      },
      "source": [
        "#changing column names of original csv\n",
        "#both csv files are saved to root of mounted drive\n",
        "import pandas as pd\n",
        "df = pd.read_csv('firstsub.csv', header=None)\n",
        "df.rename(columns={0:'ID', 1:'Category'}, inplace=True)\n",
        "df.to_csv('subwname.csv', index=False)"
      ],
      "execution_count": 0,
      "outputs": []
    },
    {
      "cell_type": "code",
      "metadata": {
        "id": "TRPJ538K0Imn",
        "colab_type": "code",
        "colab": {}
      },
      "source": [
        ""
      ],
      "execution_count": 0,
      "outputs": []
    }
  ]
}